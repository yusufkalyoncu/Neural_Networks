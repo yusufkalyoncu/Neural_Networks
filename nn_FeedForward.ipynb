{
 "cells": [
  {
   "cell_type": "code",
   "execution_count": 2,
   "metadata": {},
   "outputs": [],
   "source": [
    "import torch\n",
    "import torch.nn as nn\n",
    "class MyModel(nn.Module):\n",
    "    def __init__(self, num_input_features, num_hidden_neuron, num_output_neuron):\n",
    "        super(MyModel, self).__init__()\n",
    "        self.hidden_layer = nn.Linear(num_input_features, num_hidden_neuron)\n",
    "        self.output_layer = nn.Linear(num_hidden_neuron, num_output_neuron)\n",
    "        self.tanh = nn.Tanh()\n",
    "        self.sigmoid = nn.Sigmoid()\n",
    "        \n",
    "    def my_tanh(self,value):\n",
    "        return (torch.exp(value) - torch.exp(-value))/(torch.exp(value) + torch.exp(-value))\n",
    "    \n",
    "    def my_sigmoid(self,value):\n",
    "        return 1/(1 + torch.exp(-value))\n",
    "\n",
    "    def forward(self, X):\n",
    "        X = torch.tensor(X, dtype=torch.float)\n",
    "        hidden_res = self.my_tanh(self.hidden_layer(X))\n",
    "        output = self.my_sigmoid(self.output_layer(hidden_res))\n",
    "        return output"
   ]
  },
  {
   "cell_type": "code",
   "execution_count": 3,
   "metadata": {},
   "outputs": [
    {
     "name": "stdout",
     "output_type": "stream",
     "text": [
      "result :  tensor([[0.4892],\n",
      "        [0.5566]], grad_fn=<MulBackward0>)\n"
     ]
    }
   ],
   "source": [
    "#4.1\n",
    "torch.manual_seed(1)\n",
    "x = [[1,2,3],[4,5,6]]\n",
    "neuralNetwork = MyModel(len(x[0]), 50, 1)\n",
    "result = neuralNetwork.forward(x)\n",
    "print(\"result : \",result)"
   ]
  },
  {
   "attachments": {},
   "cell_type": "markdown",
   "metadata": {},
   "source": [
    "when i used torch tanh and sigmoid func, result = tensor([[0.4892],[0.5566]], grad_fn=<SigmoidBackward0>)\n",
    "when i used my own tanh and sigmoid func, result = tensor([[0.4892],[0.5566]], grad_fn=<MulBackward0>)\n",
    "then my own functions is working correctly"
   ]
  },
  {
   "cell_type": "code",
   "execution_count": 4,
   "metadata": {},
   "outputs": [
    {
     "name": "stdout",
     "output_type": "stream",
     "text": [
      "result :  tensor([[0.6684],\n",
      "        [0.7161]], grad_fn=<MulBackward0>)\n"
     ]
    }
   ],
   "source": [
    "#4.2\n",
    "torch.manual_seed(200401093)\n",
    "x = [[1,2,3],[4,5,6]]\n",
    "neuralNetwork = MyModel(len(x[0]), 50, 1)\n",
    "result = neuralNetwork.forward(x)\n",
    "print(\"result : \",result)"
   ]
  }
 ],
 "metadata": {
  "kernelspec": {
   "display_name": "Python 3",
   "language": "python",
   "name": "python3"
  },
  "language_info": {
   "codemirror_mode": {
    "name": "ipython",
    "version": 3
   },
   "file_extension": ".py",
   "mimetype": "text/x-python",
   "name": "python",
   "nbconvert_exporter": "python",
   "pygments_lexer": "ipython3",
   "version": "3.10.5"
  },
  "orig_nbformat": 4
 },
 "nbformat": 4,
 "nbformat_minor": 2
}
